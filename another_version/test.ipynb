{
 "cells": [
  {
   "cell_type": "code",
   "execution_count": 1,
   "metadata": {},
   "outputs": [],
   "source": [
    "from typing import Iterable, List, SupportsIndex, Union, Callable, Any, Generator\n"
   ]
  },
  {
   "cell_type": "code",
   "execution_count": 2,
   "metadata": {},
   "outputs": [],
   "source": [
    "class InfiniteStr(str):\n",
    "    def __init__(self, core: Iterable, cache=' ') -> None:\n",
    "        self.core = core\n",
    "        self.cache = cache\n",
    "\n",
    "    def __getitem__(self, i) -> str:\n",
    "        if isinstance(i, slice):\n",
    "            stop = i.stop\n",
    "            if stop is None: stop = i.start\n",
    "        else:\n",
    "            stop = i\n",
    "\n",
    "        if stop >= len(self.core):\n",
    "            temp = [self.cache] * (stop+1 - len(self.core))\n",
    "            self.core = self.core + \"\".join(temp)\n",
    "        \n",
    "        return self.core[i]\n",
    "        \n",
    "    def __str__(self) -> str:\n",
    "        cache_index = self.core.index(self.cache)\n",
    "        return self.core[:cache_index]"
   ]
  },
  {
   "cell_type": "code",
   "execution_count": 3,
   "metadata": {},
   "outputs": [],
   "source": [
    "a = InfiniteStr('abcde')"
   ]
  },
  {
   "cell_type": "code",
   "execution_count": 6,
   "metadata": {},
   "outputs": [
    {
     "ename": "TypeError",
     "evalue": "'InfiniteStr' object does not support item assignment",
     "output_type": "error",
     "traceback": [
      "\u001b[0;31m---------------------------------------------------------------------------\u001b[0m",
      "\u001b[0;31mTypeError\u001b[0m                                 Traceback (most recent call last)",
      "\u001b[1;32m/mnt/c/Users/AD/OneDrive - University of Iowa/Documents/PhD Courses/Theory of Computation/final project/fuzzy-octo-chainsaw/another_version/test.ipynb Cell 4\u001b[0m in \u001b[0;36m<cell line: 1>\u001b[0;34m()\u001b[0m\n\u001b[0;32m----> <a href='vscode-notebook-cell://wsl%2Bubuntu-18.04/mnt/c/Users/AD/OneDrive%20-%20University%20of%20Iowa/Documents/PhD%20Courses/Theory%20of%20Computation/final%20project/fuzzy-octo-chainsaw/another_version/test.ipynb#W3sdnNjb2RlLXJlbW90ZQ%3D%3D?line=0'>1</a>\u001b[0m a[\u001b[39m0\u001b[39;49m] \u001b[39m=\u001b[39m \u001b[39m'\u001b[39m\u001b[39m1\u001b[39m\u001b[39m'\u001b[39m\n",
      "\u001b[0;31mTypeError\u001b[0m: 'InfiniteStr' object does not support item assignment"
     ]
    }
   ],
   "source": [
    "a[0] = '1'"
   ]
  },
  {
   "cell_type": "code",
   "execution_count": 7,
   "metadata": {},
   "outputs": [
    {
     "ename": "TypeError",
     "evalue": "'str' object does not support item assignment",
     "output_type": "error",
     "traceback": [
      "\u001b[0;31m---------------------------------------------------------------------------\u001b[0m",
      "\u001b[0;31mTypeError\u001b[0m                                 Traceback (most recent call last)",
      "\u001b[1;32m/mnt/c/Users/AD/OneDrive - University of Iowa/Documents/PhD Courses/Theory of Computation/final project/fuzzy-octo-chainsaw/another_version/test.ipynb Cell 5\u001b[0m in \u001b[0;36m<cell line: 2>\u001b[0;34m()\u001b[0m\n\u001b[1;32m      <a href='vscode-notebook-cell://wsl%2Bubuntu-18.04/mnt/c/Users/AD/OneDrive%20-%20University%20of%20Iowa/Documents/PhD%20Courses/Theory%20of%20Computation/final%20project/fuzzy-octo-chainsaw/another_version/test.ipynb#W4sdnNjb2RlLXJlbW90ZQ%3D%3D?line=0'>1</a>\u001b[0m b \u001b[39m=\u001b[39m \u001b[39m'\u001b[39m\u001b[39macde\u001b[39m\u001b[39m'\u001b[39m\n\u001b[0;32m----> <a href='vscode-notebook-cell://wsl%2Bubuntu-18.04/mnt/c/Users/AD/OneDrive%20-%20University%20of%20Iowa/Documents/PhD%20Courses/Theory%20of%20Computation/final%20project/fuzzy-octo-chainsaw/another_version/test.ipynb#W4sdnNjb2RlLXJlbW90ZQ%3D%3D?line=1'>2</a>\u001b[0m b[\u001b[39m0\u001b[39;49m] \u001b[39m=\u001b[39m \u001b[39m'\u001b[39m\u001b[39m1\u001b[39m\u001b[39m'\u001b[39m\n",
      "\u001b[0;31mTypeError\u001b[0m: 'str' object does not support item assignment"
     ]
    }
   ],
   "source": [
    "b = 'acde'\n",
    "b[0] = '1'"
   ]
  }
 ],
 "metadata": {
  "kernelspec": {
   "display_name": "env1",
   "language": "python",
   "name": "python3"
  },
  "language_info": {
   "codemirror_mode": {
    "name": "ipython",
    "version": 3
   },
   "file_extension": ".py",
   "mimetype": "text/x-python",
   "name": "python",
   "nbconvert_exporter": "python",
   "pygments_lexer": "ipython3",
   "version": "3.9.14"
  },
  "orig_nbformat": 4,
  "vscode": {
   "interpreter": {
    "hash": "417401350214030a9af8aa05f32c552c2e1fe4324ef72f0692ceb27848b6560e"
   }
  }
 },
 "nbformat": 4,
 "nbformat_minor": 2
}
